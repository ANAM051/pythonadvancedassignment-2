{
 "cells": [
  {
   "cell_type": "markdown",
   "id": "8140fe04",
   "metadata": {},
   "source": [
    "Q1. What is the relationship between classes and modules?\n",
    "\n",
    "Q2. How do you make instances and classes?\n",
    "\n",
    "Q3. Where and how should be class attributes created?\n",
    "\n",
    "Q4. Where and how are instance attributes created?\n",
    "\n",
    "Q5. What does the term &quot;self&quot; in a Python class mean?\n",
    "\n",
    "Q6. How does a Python class handle operator overloading?\n",
    "\n",
    "Q7. When do you consider allowing operator overloading of your classes?\n",
    "\n",
    "Q8. What is the most popular form of operator overloading?\n",
    "\n",
    "Q9. What are the two most important concepts to grasp in order to comprehend Python OOP code?"
   ]
  },
  {
   "cell_type": "markdown",
   "id": "96b7ecdc",
   "metadata": {},
   "source": [
    "1.classes have objects or instances and that objects have methods that can interact with the objects whereas module is a method used in different classes."
   ]
  },
  {
   "cell_type": "markdown",
   "id": "d5d1bcbf",
   "metadata": {},
   "source": [
    "2.First we have to create class, inside that class we have to create functions that functions are called as objects or instances.In classes we can create our own type of data and give them name."
   ]
  },
  {
   "cell_type": "markdown",
   "id": "fb0a3e91",
   "metadata": {},
   "source": [
    "3.class attributes are created outside __init__ method."
   ]
  },
  {
   "cell_type": "markdown",
   "id": "e4025550",
   "metadata": {},
   "source": [
    "4.instance attributes are created below __init__ method."
   ]
  },
  {
   "cell_type": "markdown",
   "id": "f2ed42cd",
   "metadata": {},
   "source": [
    "5.In python class, self  initialise the instance or object of the class"
   ]
  },
  {
   "cell_type": "markdown",
   "id": "e10d0508",
   "metadata": {},
   "source": [
    "6.This is defined by achieving special methods in a class.In order to overload + we have to create _add_() function in a class."
   ]
  },
  {
   "cell_type": "markdown",
   "id": "363f3a8a",
   "metadata": {},
   "source": [
    "7.If we want to redefine the behaviour of a class"
   ]
  },
  {
   "cell_type": "markdown",
   "id": "aa62e795",
   "metadata": {},
   "source": [
    "8.. The most common use of the addition operator ‘+’ is for concatenating and combining two different strings. As mentioned on top, the plus symbol’s practice in dissimilar forms is the largest classic example of the operator-level overloading process.\n"
   ]
  },
  {
   "cell_type": "code",
   "execution_count": null,
   "id": "6674f4f7",
   "metadata": {},
   "outputs": [],
   "source": [
    "9. classes and object"
   ]
  }
 ],
 "metadata": {
  "kernelspec": {
   "display_name": "Python 3 (ipykernel)",
   "language": "python",
   "name": "python3"
  },
  "language_info": {
   "codemirror_mode": {
    "name": "ipython",
    "version": 3
   },
   "file_extension": ".py",
   "mimetype": "text/x-python",
   "name": "python",
   "nbconvert_exporter": "python",
   "pygments_lexer": "ipython3",
   "version": "3.9.12"
  }
 },
 "nbformat": 4,
 "nbformat_minor": 5
}
